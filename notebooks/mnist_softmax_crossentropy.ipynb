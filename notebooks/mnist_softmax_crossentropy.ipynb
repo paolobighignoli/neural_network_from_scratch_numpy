{
 "cells": [
  {
   "cell_type": "markdown",
   "metadata": {},
   "source": [
    "# Killer combo, softmax and cross entropy\n",
    "\n",
    "Original article [here](https://levelup.gitconnected.com/killer-combo-softmax-and-cross-entropy-5907442f60ba)\n",
    "\n",
    "So far we have the following guys:\n",
    "\n",
    "* a single digit $x \\in \\R^{784}$\n",
    "* the correct label $y \\in \\R^{10}$, which is a one-hot encoding having all $0$'s and one single $1$ in the place of the correct label\n",
    "* the weights matrix $W \\in \\R^{10 \\times 784}$ such that:\n",
    "\n",
    "$$ \\hat{y} = W \\cdot x $$\n",
    "\n",
    "* the loss function $L(y, \\hat{y})$ which is the MSE between $y, \\hat{y}$, and since $L(y, \\hat{y}) = (y - \\hat{y})^T \\cdot (y - \\hat{y}) = (y - W \\cdot x)^T \\cdot (y - W \\cdot x)$ we have our last guy:\n",
    "* which is $\\nabla L_{W} = (y - W \\cdot x) \\cdot x^T$, which is such that $\\in \\R^{10 \\times 784}$, i.e. has the same dimensions of $W$\n",
    "\n",
    "So up to now the update of the weights is done as follow:\n",
    "\n",
    "$$ W = W - \\alpha \\cdot \\nabla L_{W} = W - \\alpha \\cdot (y - W \\cdot x) \\cdot x^T$$\n",
    "\n",
    "Now... the thing is that:\n",
    "\n",
    "* the MSE used with a one-hot encoding vector is not the best, i.e. we should put more attention on the single place with the label and less importance on the other places of the vector\n",
    "* right now we only have a simple linear combination, i.e. we just have a matrix - vector multiplication, we should add a non linear function in order to try to caputure non linear relationship between $x$ and $y$.\n",
    "\n",
    "And it's here that we introduce two new guys:\n",
    "\n"
   ]
  },
  {
   "cell_type": "markdown",
   "metadata": {},
   "source": []
  }
 ],
 "metadata": {
  "kernelspec": {
   "display_name": "Python 3.11.1 64-bit ('3.11.1')",
   "language": "python",
   "name": "python3"
  },
  "language_info": {
   "name": "python",
   "version": "3.11.1"
  },
  "orig_nbformat": 4,
  "vscode": {
   "interpreter": {
    "hash": "36aa87528da973003848376161a4d73716901319591f0c4bb70f237c64eec3af"
   }
  }
 },
 "nbformat": 4,
 "nbformat_minor": 2
}
