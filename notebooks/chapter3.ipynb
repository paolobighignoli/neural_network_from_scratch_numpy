{
 "cells": [
  {
   "cell_type": "markdown",
   "metadata": {},
   "source": [
    "# Introduction to neural prediction\n",
    "\n",
    "## A simple neural network\n",
    "\n",
    "Lets think about a simple scenarios, the number of significant strike in an MMA match. \n",
    "\n",
    "As many of you probably are wondering in this moment, \"What the fuck is a significant strike?\", well it's basically a well placed and landed strike (a punch or a kick), and they are quite usefull to determine how a fight is going, i.e. who is winning. Moreover, when the fight goes to the distance (i.e., the 3 or 5 rounds finish without a finalization), the judges decide who has won, and one of the metric that take into consideration is exactly that.\n",
    "\n",
    "Anyway, lets try to predict the chance of winning of a fighter during a fight, based on the value of the significant strikes."
   ]
  },
  {
   "cell_type": "code",
   "execution_count": 3,
   "metadata": {},
   "outputs": [],
   "source": [
    "weight = 0.1\n",
    "\n",
    "def neural_network(input, weight):\n",
    " \n",
    "    prediction = input * weight\n",
    "\n",
    "    return prediction"
   ]
  },
  {
   "cell_type": "code",
   "execution_count": 4,
   "metadata": {},
   "outputs": [
    {
     "name": "stdout",
     "output_type": "stream",
     "text": [
      "0.8500000000000001\n"
     ]
    }
   ],
   "source": [
    "significant_strikes = [8.5, 9.5, 10, 9]\n",
    "\n",
    "input = significant_strikes[0]\n",
    "\n",
    "prediction = neural_network(input, weight)\n",
    "\n",
    "print(prediction)"
   ]
  },
  {
   "cell_type": "markdown",
   "metadata": {},
   "source": [
    "Ok so we have an 85% of winning given those values.\n",
    "\n",
    "Thats our first neural network, congrats!"
   ]
  },
  {
   "cell_type": "markdown",
   "metadata": {},
   "source": [
    "## Making a prediction with multiple inputs\n",
    "\n",
    "The example above is quite simple, even too much probably.\n",
    "\n",
    "In fact in fighting, significant strikes are not the only valuable metric, there are also, takedowns, submission attemps, control time etc etc... .\n",
    "\n",
    "Let's change our model a little bit:"
   ]
  },
  {
   "cell_type": "code",
   "execution_count": 9,
   "metadata": {},
   "outputs": [
    {
     "name": "stdout",
     "output_type": "stream",
     "text": [
      "0.9\n"
     ]
    }
   ],
   "source": [
    "def weighted_sum(a, b):\n",
    "    \"\"\"\n",
    "    Perform a simple weighted sum between two vectors\n",
    "\n",
    "    \"\"\"\n",
    "    assert(len(a)==len(b))\n",
    "    \n",
    "    result = 0\n",
    "\n",
    "    for i in range(len(a)):\n",
    "        \n",
    "        result += a[i]*b[i]\n",
    "    \n",
    "    return result\n",
    "\n",
    "def neural_network(input, weights):\n",
    "    \n",
    "    prediction = weighted_sum(input, weights)\n",
    "\n",
    "    return prediction\n",
    "\n",
    "weights = [0.1, 0.2, 0.0]\n",
    "\n",
    "significant_strikes = [5, 9.5, 9, 10]\n",
    "submission_attempts = [2, 3, 0, 1]\n",
    "takedowns = [2, 0, 2, 1]\n",
    "\n",
    "input = [significant_strikes[0], submission_attempts[0], takedowns[0]]\n",
    "\n",
    "prediction = neural_network(input, weights)\n",
    "\n",
    "print(prediction)"
   ]
  },
  {
   "cell_type": "markdown",
   "metadata": {},
   "source": []
  },
  {
   "cell_type": "markdown",
   "metadata": {},
   "source": []
  }
 ],
 "metadata": {
  "kernelspec": {
   "display_name": "Python 3.11.1 64-bit ('3.11.1')",
   "language": "python",
   "name": "python3"
  },
  "language_info": {
   "codemirror_mode": {
    "name": "ipython",
    "version": 3
   },
   "file_extension": ".py",
   "mimetype": "text/x-python",
   "name": "python",
   "nbconvert_exporter": "python",
   "pygments_lexer": "ipython3",
   "version": "3.11.1"
  },
  "orig_nbformat": 4,
  "vscode": {
   "interpreter": {
    "hash": "36aa87528da973003848376161a4d73716901319591f0c4bb70f237c64eec3af"
   }
  }
 },
 "nbformat": 4,
 "nbformat_minor": 2
}
